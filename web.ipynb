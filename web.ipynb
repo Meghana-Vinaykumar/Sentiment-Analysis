{
 "cells": [
  {
   "cell_type": "code",
   "execution_count": null,
   "id": "b0a14352-c5e1-4943-b1a4-b6530a55c652",
   "metadata": {},
   "outputs": [],
   "source": [
    "import streamlit as st\n",
    "import numpy as np\n",
    "import re\n",
    "from tensorflow.keras.preprocessing.sequence import pad_sequences\n",
    "from tensorflow.keras.models import load_model\n",
    "from tensorflow.keras.datasets import imdb\n",
    "\n",
    "word_index = imdb.get_word_index()\n",
    "word_index = {k: (v + 3) for k, v in word_index.items()}\n",
    "\n",
    "model = load_model(\"imdb.h5\")\n",
    "\n",
    "max_len = 200\n",
    "\n",
    "def predict_sentiment(text):\n",
    "    text = text.lower()\n",
    "    text = re.sub(r\"[^\\w\\s]\", \"\", text)\n",
    "    tokens = text.split()\n",
    "    sequence = [1]  \n",
    "    for word in tokens:\n",
    "        sequence.append(word_index.get(word, 2)) \n",
    "    padded = pad_sequences([sequence], maxlen=max_len)\n",
    "    prediction = model.predict(padded)[0][0]\n",
    "    sentiment = \"Positive\" if prediction >= 0.5 else \"Negative\"\n",
    "    return sentiment, prediction\n",
    "\n",
    "st.title(\"Sentiment Analyzer\")\n",
    "st.write(\"Enter a review below to predict its sentiment.\")\n",
    "\n",
    "user_input = st.text_area(\"Your review here:\")\n",
    "\n",
    "if st.button(\"Analyze Sentiment\"):\n",
    "    if user_input.strip() == \"\":\n",
    "        st.warning(\"Please enter some text first.\")\n",
    "    else:\n",
    "        sentiment, score = predict_sentiment(user_input)\n",
    "        st.title(\"Prediction\")\n",
    "        st.write(f\"**Sentiment:** {sentiment}\")"
   ]
  }
 ],
 "metadata": {
  "kernelspec": {
   "display_name": "Python 3 (ipykernel)",
   "language": "python",
   "name": "python3"
  },
  "language_info": {
   "codemirror_mode": {
    "name": "ipython",
    "version": 3
   },
   "file_extension": ".py",
   "mimetype": "text/x-python",
   "name": "python",
   "nbconvert_exporter": "python",
   "pygments_lexer": "ipython3",
   "version": "3.12.4"
  }
 },
 "nbformat": 4,
 "nbformat_minor": 5
}
